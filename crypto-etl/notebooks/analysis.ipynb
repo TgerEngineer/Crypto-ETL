{
 "cells": [
  {
   "cell_type": "code",
   "execution_count": 5,
   "id": "e7ccd46a",
   "metadata": {},
   "outputs": [],
   "source": [
    "import psycopg2\n",
    "import pandas as pd\n",
    "\n",
    "# Kết nối đến PostgreSQL (sử dụng tên container Docker)\n",
    "conn = psycopg2.connect(\n",
    "    dbname=\"crypto_db\",\n",
    "    user=\"user\",\n",
    "    password=\"pass\",\n",
    "    host=\"localhost\",  # Tên container trong Docker Compose\n",
    "    port=\"5432\"\n",
    ")\n"
   ]
  },
  {
   "cell_type": "markdown",
   "id": "5994d177",
   "metadata": {},
   "source": [
    "Xem dữ liệu mới nhất:"
   ]
  },
  {
   "cell_type": "code",
   "execution_count": 7,
   "id": "bc3674b4",
   "metadata": {},
   "outputs": [
    {
     "name": "stderr",
     "output_type": "stream",
     "text": [
      "C:\\Users\\Tger\\AppData\\Local\\Temp\\ipykernel_21612\\4114318346.py:7: UserWarning: pandas only supports SQLAlchemy connectable (engine/connection) or database string URI or sqlite3 DBAPI2 connection. Other DBAPI2 objects are not tested. Please consider using SQLAlchemy.\n",
      "  df = pd.read_sql_query(query, conn)\n"
     ]
    },
    {
     "data": {
      "text/html": [
       "<div>\n",
       "<style scoped>\n",
       "    .dataframe tbody tr th:only-of-type {\n",
       "        vertical-align: middle;\n",
       "    }\n",
       "\n",
       "    .dataframe tbody tr th {\n",
       "        vertical-align: top;\n",
       "    }\n",
       "\n",
       "    .dataframe thead th {\n",
       "        text-align: right;\n",
       "    }\n",
       "</style>\n",
       "<table border=\"1\" class=\"dataframe\">\n",
       "  <thead>\n",
       "    <tr style=\"text-align: right;\">\n",
       "      <th></th>\n",
       "      <th>id</th>\n",
       "      <th>symbol</th>\n",
       "      <th>price_usd</th>\n",
       "      <th>market_cap</th>\n",
       "      <th>volume_24h</th>\n",
       "      <th>percent_change_24h</th>\n",
       "      <th>timestamp</th>\n",
       "    </tr>\n",
       "  </thead>\n",
       "  <tbody>\n",
       "    <tr>\n",
       "      <th>0</th>\n",
       "      <td>600</td>\n",
       "      <td>usdc</td>\n",
       "      <td>1.000000</td>\n",
       "      <td>848927674.0</td>\n",
       "      <td>37669216.0</td>\n",
       "      <td>0.00151</td>\n",
       "      <td>2025-04-26 05:18:43.127460</td>\n",
       "    </tr>\n",
       "    <tr>\n",
       "      <th>1</th>\n",
       "      <td>599</td>\n",
       "      <td>reth</td>\n",
       "      <td>2025.090000</td>\n",
       "      <td>862561211.0</td>\n",
       "      <td>5896457.0</td>\n",
       "      <td>1.44118</td>\n",
       "      <td>2025-04-26 05:18:43.127376</td>\n",
       "    </tr>\n",
       "    <tr>\n",
       "      <th>2</th>\n",
       "      <td>598</td>\n",
       "      <td>jasmy</td>\n",
       "      <td>0.018065</td>\n",
       "      <td>875246362.0</td>\n",
       "      <td>113822211.0</td>\n",
       "      <td>8.52137</td>\n",
       "      <td>2025-04-26 05:18:43.127293</td>\n",
       "    </tr>\n",
       "    <tr>\n",
       "      <th>3</th>\n",
       "      <td>597</td>\n",
       "      <td>bsv</td>\n",
       "      <td>44.440000</td>\n",
       "      <td>880752816.0</td>\n",
       "      <td>463564379.0</td>\n",
       "      <td>31.41756</td>\n",
       "      <td>2025-04-26 05:18:43.127209</td>\n",
       "    </tr>\n",
       "    <tr>\n",
       "      <th>4</th>\n",
       "      <td>596</td>\n",
       "      <td>pyusd</td>\n",
       "      <td>0.999934</td>\n",
       "      <td>884175973.0</td>\n",
       "      <td>16986441.0</td>\n",
       "      <td>-0.02032</td>\n",
       "      <td>2025-04-26 05:18:43.127123</td>\n",
       "    </tr>\n",
       "    <tr>\n",
       "      <th>5</th>\n",
       "      <td>595</td>\n",
       "      <td>usdt0</td>\n",
       "      <td>1.000000</td>\n",
       "      <td>893639300.0</td>\n",
       "      <td>233058615.0</td>\n",
       "      <td>-0.01438</td>\n",
       "      <td>2025-04-26 05:18:43.127034</td>\n",
       "    </tr>\n",
       "    <tr>\n",
       "      <th>6</th>\n",
       "      <td>594</td>\n",
       "      <td>wbnb</td>\n",
       "      <td>601.100000</td>\n",
       "      <td>910315140.0</td>\n",
       "      <td>269197605.0</td>\n",
       "      <td>-0.79658</td>\n",
       "      <td>2025-04-26 05:18:43.126928</td>\n",
       "    </tr>\n",
       "    <tr>\n",
       "      <th>7</th>\n",
       "      <td>593</td>\n",
       "      <td>crv</td>\n",
       "      <td>0.694734</td>\n",
       "      <td>926692472.0</td>\n",
       "      <td>221040282.0</td>\n",
       "      <td>4.11185</td>\n",
       "      <td>2025-04-26 05:18:43.126791</td>\n",
       "    </tr>\n",
       "    <tr>\n",
       "      <th>8</th>\n",
       "      <td>592</td>\n",
       "      <td>grt</td>\n",
       "      <td>0.104175</td>\n",
       "      <td>994743124.0</td>\n",
       "      <td>70770458.0</td>\n",
       "      <td>8.50984</td>\n",
       "      <td>2025-04-26 05:18:43.126672</td>\n",
       "    </tr>\n",
       "    <tr>\n",
       "      <th>9</th>\n",
       "      <td>591</td>\n",
       "      <td>inj</td>\n",
       "      <td>10.220000</td>\n",
       "      <td>998473964.0</td>\n",
       "      <td>112044546.0</td>\n",
       "      <td>2.23600</td>\n",
       "      <td>2025-04-26 05:18:43.126588</td>\n",
       "    </tr>\n",
       "  </tbody>\n",
       "</table>\n",
       "</div>"
      ],
      "text/plain": [
       "    id symbol    price_usd   market_cap   volume_24h  percent_change_24h  \\\n",
       "0  600   usdc     1.000000  848927674.0   37669216.0             0.00151   \n",
       "1  599   reth  2025.090000  862561211.0    5896457.0             1.44118   \n",
       "2  598  jasmy     0.018065  875246362.0  113822211.0             8.52137   \n",
       "3  597    bsv    44.440000  880752816.0  463564379.0            31.41756   \n",
       "4  596  pyusd     0.999934  884175973.0   16986441.0            -0.02032   \n",
       "5  595  usdt0     1.000000  893639300.0  233058615.0            -0.01438   \n",
       "6  594   wbnb   601.100000  910315140.0  269197605.0            -0.79658   \n",
       "7  593    crv     0.694734  926692472.0  221040282.0             4.11185   \n",
       "8  592    grt     0.104175  994743124.0   70770458.0             8.50984   \n",
       "9  591    inj    10.220000  998473964.0  112044546.0             2.23600   \n",
       "\n",
       "                   timestamp  \n",
       "0 2025-04-26 05:18:43.127460  \n",
       "1 2025-04-26 05:18:43.127376  \n",
       "2 2025-04-26 05:18:43.127293  \n",
       "3 2025-04-26 05:18:43.127209  \n",
       "4 2025-04-26 05:18:43.127123  \n",
       "5 2025-04-26 05:18:43.127034  \n",
       "6 2025-04-26 05:18:43.126928  \n",
       "7 2025-04-26 05:18:43.126791  \n",
       "8 2025-04-26 05:18:43.126672  \n",
       "9 2025-04-26 05:18:43.126588  "
      ]
     },
     "execution_count": 7,
     "metadata": {},
     "output_type": "execute_result"
    }
   ],
   "source": [
    "query = \"\"\"\n",
    "SELECT * FROM fact_crypto_price\n",
    "ORDER BY timestamp DESC\n",
    "LIMIT 10\n",
    "\"\"\"\n",
    "\n",
    "df = pd.read_sql_query(query, conn)\n",
    "df\n"
   ]
  },
  {
   "cell_type": "markdown",
   "id": "8bfba534",
   "metadata": {},
   "source": [
    "Trung bình giá theo coin:"
   ]
  },
  {
   "cell_type": "code",
   "execution_count": 8,
   "id": "c8e8678a",
   "metadata": {},
   "outputs": [
    {
     "name": "stderr",
     "output_type": "stream",
     "text": [
      "C:\\Users\\Tger\\AppData\\Local\\Temp\\ipykernel_21612\\3421650188.py:8: UserWarning: pandas only supports SQLAlchemy connectable (engine/connection) or database string URI or sqlite3 DBAPI2 connection. Other DBAPI2 objects are not tested. Please consider using SQLAlchemy.\n",
      "  df_avg = pd.read_sql_query(query, conn)\n"
     ]
    },
    {
     "data": {
      "text/html": [
       "<div>\n",
       "<style scoped>\n",
       "    .dataframe tbody tr th:only-of-type {\n",
       "        vertical-align: middle;\n",
       "    }\n",
       "\n",
       "    .dataframe tbody tr th {\n",
       "        vertical-align: top;\n",
       "    }\n",
       "\n",
       "    .dataframe thead th {\n",
       "        text-align: right;\n",
       "    }\n",
       "</style>\n",
       "<table border=\"1\" class=\"dataframe\">\n",
       "  <thead>\n",
       "    <tr style=\"text-align: right;\">\n",
       "      <th></th>\n",
       "      <th>symbol</th>\n",
       "      <th>avg_price</th>\n",
       "    </tr>\n",
       "  </thead>\n",
       "  <tbody>\n",
       "    <tr>\n",
       "      <th>0</th>\n",
       "      <td>btc</td>\n",
       "      <td>91094.67</td>\n",
       "    </tr>\n",
       "    <tr>\n",
       "      <th>1</th>\n",
       "      <td>cbbtc</td>\n",
       "      <td>91087.50</td>\n",
       "    </tr>\n",
       "    <tr>\n",
       "      <th>2</th>\n",
       "      <td>solvbtc</td>\n",
       "      <td>91057.00</td>\n",
       "    </tr>\n",
       "    <tr>\n",
       "      <th>3</th>\n",
       "      <td>wbtc</td>\n",
       "      <td>91042.50</td>\n",
       "    </tr>\n",
       "    <tr>\n",
       "      <th>4</th>\n",
       "      <td>lbtc</td>\n",
       "      <td>90776.83</td>\n",
       "    </tr>\n",
       "    <tr>\n",
       "      <th>...</th>\n",
       "      <td>...</td>\n",
       "      <td>...</td>\n",
       "    </tr>\n",
       "    <tr>\n",
       "      <th>95</th>\n",
       "      <td>flr</td>\n",
       "      <td>0.02</td>\n",
       "    </tr>\n",
       "    <tr>\n",
       "      <th>96</th>\n",
       "      <td>jasmy</td>\n",
       "      <td>0.02</td>\n",
       "    </tr>\n",
       "    <tr>\n",
       "      <th>97</th>\n",
       "      <td>bonk</td>\n",
       "      <td>0.00</td>\n",
       "    </tr>\n",
       "    <tr>\n",
       "      <th>98</th>\n",
       "      <td>shib</td>\n",
       "      <td>0.00</td>\n",
       "    </tr>\n",
       "    <tr>\n",
       "      <th>99</th>\n",
       "      <td>pepe</td>\n",
       "      <td>0.00</td>\n",
       "    </tr>\n",
       "  </tbody>\n",
       "</table>\n",
       "<p>100 rows × 2 columns</p>\n",
       "</div>"
      ],
      "text/plain": [
       "     symbol  avg_price\n",
       "0       btc   91094.67\n",
       "1     cbbtc   91087.50\n",
       "2   solvbtc   91057.00\n",
       "3      wbtc   91042.50\n",
       "4      lbtc   90776.83\n",
       "..      ...        ...\n",
       "95      flr       0.02\n",
       "96    jasmy       0.02\n",
       "97     bonk       0.00\n",
       "98     shib       0.00\n",
       "99     pepe       0.00\n",
       "\n",
       "[100 rows x 2 columns]"
      ]
     },
     "execution_count": 8,
     "metadata": {},
     "output_type": "execute_result"
    }
   ],
   "source": [
    "query = \"\"\"\n",
    "SELECT symbol, ROUND(AVG(price_usd), 2) AS avg_price\n",
    "FROM fact_crypto_price\n",
    "GROUP BY symbol\n",
    "ORDER BY avg_price DESC\n",
    "\"\"\"\n",
    "\n",
    "df_avg = pd.read_sql_query(query, conn)\n",
    "df_avg\n"
   ]
  },
  {
   "cell_type": "markdown",
   "id": "ac6cd108",
   "metadata": {},
   "source": [
    "Top 5 đồng coin có Market Cap cao nhất gần đây:"
   ]
  },
  {
   "cell_type": "code",
   "execution_count": 9,
   "id": "49696854",
   "metadata": {},
   "outputs": [
    {
     "name": "stderr",
     "output_type": "stream",
     "text": [
      "C:\\Users\\Tger\\AppData\\Local\\Temp\\ipykernel_21612\\525567206.py:8: UserWarning: pandas only supports SQLAlchemy connectable (engine/connection) or database string URI or sqlite3 DBAPI2 connection. Other DBAPI2 objects are not tested. Please consider using SQLAlchemy.\n",
      "  df_top5 = pd.read_sql(query, conn)\n"
     ]
    },
    {
     "data": {
      "text/html": [
       "<div>\n",
       "<style scoped>\n",
       "    .dataframe tbody tr th:only-of-type {\n",
       "        vertical-align: middle;\n",
       "    }\n",
       "\n",
       "    .dataframe tbody tr th {\n",
       "        vertical-align: top;\n",
       "    }\n",
       "\n",
       "    .dataframe thead th {\n",
       "        text-align: right;\n",
       "    }\n",
       "</style>\n",
       "<table border=\"1\" class=\"dataframe\">\n",
       "  <thead>\n",
       "    <tr style=\"text-align: right;\">\n",
       "      <th></th>\n",
       "      <th>symbol</th>\n",
       "      <th>price_usd</th>\n",
       "      <th>market_cap</th>\n",
       "      <th>timestamp</th>\n",
       "    </tr>\n",
       "  </thead>\n",
       "  <tbody>\n",
       "    <tr>\n",
       "      <th>0</th>\n",
       "      <td>usdc</td>\n",
       "      <td>1.0</td>\n",
       "      <td>848927674.0</td>\n",
       "      <td>2025-04-26 05:18:43.127460</td>\n",
       "    </tr>\n",
       "  </tbody>\n",
       "</table>\n",
       "</div>"
      ],
      "text/plain": [
       "  symbol  price_usd   market_cap                  timestamp\n",
       "0   usdc        1.0  848927674.0 2025-04-26 05:18:43.127460"
      ]
     },
     "execution_count": 9,
     "metadata": {},
     "output_type": "execute_result"
    }
   ],
   "source": [
    "query = \"\"\"\n",
    "SELECT symbol, price_usd, market_cap, timestamp\n",
    "FROM fact_crypto_price\n",
    "WHERE timestamp = (SELECT MAX(timestamp) FROM fact_crypto_price)\n",
    "ORDER BY market_cap DESC\n",
    "LIMIT 5\n",
    "\"\"\"\n",
    "df_top5 = pd.read_sql(query, conn)\n",
    "df_top5\n"
   ]
  },
  {
   "cell_type": "markdown",
   "id": "3b7cae5d",
   "metadata": {},
   "source": [
    "Biến động giá của một đồng coin theo thời gian:"
   ]
  },
  {
   "cell_type": "code",
   "execution_count": 10,
   "id": "10ef82a0",
   "metadata": {},
   "outputs": [
    {
     "name": "stderr",
     "output_type": "stream",
     "text": [
      "C:\\Users\\Tger\\AppData\\Local\\Temp\\ipykernel_21612\\1625115526.py:8: UserWarning: pandas only supports SQLAlchemy connectable (engine/connection) or database string URI or sqlite3 DBAPI2 connection. Other DBAPI2 objects are not tested. Please consider using SQLAlchemy.\n",
      "  df_btc = pd.read_sql(query, conn)\n"
     ]
    },
    {
     "data": {
      "text/plain": [
       "<Axes: title={'center': 'Price of BTC over time'}, xlabel='timestamp'>"
      ]
     },
     "execution_count": 10,
     "metadata": {},
     "output_type": "execute_result"
    },
    {
     "data": {
      "image/png": "[encoded data removed]",
      "text/plain": [
       "<Figure size 640x480 with 1 Axes>"
      ]
     },
     "metadata": {},
     "output_type": "display_data"
    }
   ],
   "source": [
    "coin = 'btc'  # hoặc 'eth', 'bnb', ...\n",
    "query = f\"\"\"\n",
    "SELECT timestamp, price_usd\n",
    "FROM fact_crypto_price\n",
    "WHERE symbol = '{coin}'\n",
    "ORDER BY timestamp\n",
    "\"\"\"\n",
    "df_btc = pd.read_sql(query, conn)\n",
    "df_btc.plot(x='timestamp', y='price_usd', title=f\"Price of {coin.upper()} over time\")\n"
   ]
  },
  {
   "cell_type": "markdown",
   "id": "f7fb2898",
   "metadata": {},
   "source": [
    "Tính phần trăm thay đổi giá trung bình theo ngày:"
   ]
  },
  {
   "cell_type": "code",
   "execution_count": 13,
   "id": "2bd818f9",
   "metadata": {},
   "outputs": [
    {
     "name": "stderr",
     "output_type": "stream",
     "text": [
      "C:\\Users\\Tger\\AppData\\Local\\Temp\\ipykernel_21612\\1241682862.py:8: UserWarning: pandas only supports SQLAlchemy connectable (engine/connection) or database string URI or sqlite3 DBAPI2 connection. Other DBAPI2 objects are not tested. Please consider using SQLAlchemy.\n",
      "  df_change = pd.read_sql(query, conn)\n"
     ]
    },
    {
     "data": {
      "text/html": [
       "<div>\n",
       "<style scoped>\n",
       "    .dataframe tbody tr th:only-of-type {\n",
       "        vertical-align: middle;\n",
       "    }\n",
       "\n",
       "    .dataframe tbody tr th {\n",
       "        vertical-align: top;\n",
       "    }\n",
       "\n",
       "    .dataframe thead th {\n",
       "        text-align: right;\n",
       "    }\n",
       "</style>\n",
       "<table border=\"1\" class=\"dataframe\">\n",
       "  <thead>\n",
       "    <tr style=\"text-align: right;\">\n",
       "      <th></th>\n",
       "      <th>symbol</th>\n",
       "      <th>avg_change</th>\n",
       "    </tr>\n",
       "  </thead>\n",
       "  <tbody>\n",
       "    <tr>\n",
       "      <th>0</th>\n",
       "      <td>bsv</td>\n",
       "      <td>31.227913</td>\n",
       "    </tr>\n",
       "    <tr>\n",
       "      <th>1</th>\n",
       "      <td>wld</td>\n",
       "      <td>15.817685</td>\n",
       "    </tr>\n",
       "    <tr>\n",
       "      <th>2</th>\n",
       "      <td>trump</td>\n",
       "      <td>12.738407</td>\n",
       "    </tr>\n",
       "    <tr>\n",
       "      <th>3</th>\n",
       "      <td>bonk</td>\n",
       "      <td>12.560405</td>\n",
       "    </tr>\n",
       "    <tr>\n",
       "      <th>4</th>\n",
       "      <td>fet</td>\n",
       "      <td>9.661335</td>\n",
       "    </tr>\n",
       "    <tr>\n",
       "      <th>5</th>\n",
       "      <td>jasmy</td>\n",
       "      <td>8.505737</td>\n",
       "    </tr>\n",
       "    <tr>\n",
       "      <th>6</th>\n",
       "      <td>kas</td>\n",
       "      <td>8.066717</td>\n",
       "    </tr>\n",
       "    <tr>\n",
       "      <th>7</th>\n",
       "      <td>pepe</td>\n",
       "      <td>7.303572</td>\n",
       "    </tr>\n",
       "    <tr>\n",
       "      <th>8</th>\n",
       "      <td>grt</td>\n",
       "      <td>6.979948</td>\n",
       "    </tr>\n",
       "    <tr>\n",
       "      <th>9</th>\n",
       "      <td>near</td>\n",
       "      <td>6.066848</td>\n",
       "    </tr>\n",
       "  </tbody>\n",
       "</table>\n",
       "</div>"
      ],
      "text/plain": [
       "  symbol  avg_change\n",
       "0    bsv   31.227913\n",
       "1    wld   15.817685\n",
       "2  trump   12.738407\n",
       "3   bonk   12.560405\n",
       "4    fet    9.661335\n",
       "5  jasmy    8.505737\n",
       "6    kas    8.066717\n",
       "7   pepe    7.303572\n",
       "8    grt    6.979948\n",
       "9   near    6.066848"
      ]
     },
     "execution_count": 13,
     "metadata": {},
     "output_type": "execute_result"
    }
   ],
   "source": [
    "query = \"\"\"\n",
    "SELECT symbol, AVG(percent_change_24h) as avg_change\n",
    "FROM fact_crypto_price\n",
    "GROUP BY symbol\n",
    "ORDER BY avg_change DESC\n",
    "LIMIT 10\n",
    "\"\"\"\n",
    "df_change = pd.read_sql(query, conn)\n",
    "df_change\n"
   ]
  }
 ],
 "metadata": {
  "kernelspec": {
   "display_name": "Python 3",
   "language": "python",
   "name": "python3"
  },
  "language_info": {
   "codemirror_mode": {
    "name": "ipython",
    "version": 3
   },
   "file_extension": ".py",
   "mimetype": "text/x-python",
   "name": "python",
   "nbconvert_exporter": "python",
   "pygments_lexer": "ipython3",
   "version": "3.11.9"
  }
 },
 "nbformat": 4,
 "nbformat_minor": 5
}
